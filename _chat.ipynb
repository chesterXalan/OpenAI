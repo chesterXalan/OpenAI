{
 "cells": [
  {
   "cell_type": "code",
   "execution_count": null,
   "id": "970a6f9d-8830-417b-adec-6e2cf32fc428",
   "metadata": {},
   "outputs": [],
   "source": [
    "# reference: https://platform.openai.com/docs/api-reference/chat/create"
   ]
  },
  {
   "cell_type": "code",
   "execution_count": 1,
   "id": "4dfe34f2-7c02-40d4-b6f6-cbd0cdf82df5",
   "metadata": {},
   "outputs": [],
   "source": [
    "import os\n",
    "import openai"
   ]
  },
  {
   "cell_type": "code",
   "execution_count": 2,
   "id": "49833286-ae14-4bc0-af63-921a63d5ad7b",
   "metadata": {},
   "outputs": [],
   "source": [
    "with open('API_keys/my_key') as f: # API key file\n",
    "    api_key = f.read()\n",
    "openai.api_key = api_key\n",
    "os.environ['OPENAI_API_KEY'] = api_key"
   ]
  },
  {
   "cell_type": "markdown",
   "id": "0efc0970-d042-4445-a921-5070a9b2cfab",
   "metadata": {},
   "source": [
    "## Chat GPT"
   ]
  },
  {
   "cell_type": "code",
   "execution_count": 3,
   "id": "066557e9-48f1-4f10-8350-fb491cf97055",
   "metadata": {},
   "outputs": [],
   "source": [
    "prompt_system = '你是一個聊天機器人'\n",
    "prompt_user = '就你所知，歌手\"周杰倫\"最受歡迎的10首歌分別是哪幾首? 根據是什麼'"
   ]
  },
  {
   "cell_type": "code",
   "execution_count": 4,
   "id": "139d1ad1-8e9e-40f6-8a85-d42a87e26fce",
   "metadata": {},
   "outputs": [],
   "source": [
    "response = openai.ChatCompletion.create(\n",
    "    model='gpt-3.5-turbo',\n",
    "    messages=[\n",
    "        {'role': 'system', 'content': prompt_system},\n",
    "        {'role': 'user', 'content': prompt_user}],\n",
    "    temperature=1 # 0~2 - higher means more random, and vice versa\n",
    ")"
   ]
  },
  {
   "cell_type": "code",
   "execution_count": 5,
   "id": "0a07308b-9296-42a5-886e-f25ba34492a4",
   "metadata": {},
   "outputs": [
    {
     "name": "stdout",
     "output_type": "stream",
     "text": [
      "根据我的了解，以下是周杰倫最受欢迎的10首歌曲（排名不分先後）：\n",
      "\n",
      "1.《青花瓷》\n",
      "2.《稻香》\n",
      "3.《晴天》\n",
      "4.《告白氣球》\n",
      "5.《等你下课》\n",
      "6.《不能说的秘密》\n",
      "7.《夜曲》\n",
      "8.《七里香》\n",
      "9.《安静》\n",
      "10.《斗牛》\n",
      "\n",
      "这个排名是基于歌曲的商业成功、影响力、播放量和受欢迎程度等因素的综合评估。然而，具体的排名可能会因不同地区和时间而有所变动。\n"
     ]
    }
   ],
   "source": [
    "print(response['choices'][0]['message']['content'])"
   ]
  },
  {
   "cell_type": "markdown",
   "id": "28849076-cb98-4db8-9478-8ed1fed7c8a2",
   "metadata": {},
   "source": [
    "## ChatGPT with streamed outputs"
   ]
  },
  {
   "cell_type": "code",
   "execution_count": 3,
   "id": "9de5b867-d9ca-4235-a295-eef8dccbabcf",
   "metadata": {},
   "outputs": [],
   "source": [
    "prompt_system = '你是一個聊天機器人'\n",
    "prompt_user = '就你所知，歌手\"周杰倫\"最受歡迎的10首歌分別是哪幾首? 根據是什麼'"
   ]
  },
  {
   "cell_type": "code",
   "execution_count": 4,
   "id": "513ad2fa-2f1b-49fa-8b75-b306162cf0f5",
   "metadata": {},
   "outputs": [
    {
     "name": "stdout",
     "output_type": "stream",
     "text": [
      "根據一般的受歡迎程度和知名度，以下是周杰倫最受歡迎的10首歌曲：\n",
      "\n",
      "1.《青花瓷》\n",
      "2.《稻香》\n",
      "3.《告白氣球》\n",
      "4.《晴天》\n",
      "5.《聽媽媽的話》\n",
      "6.《不能說的秘密》\n",
      "7.《安靜》\n",
      "8.《算什麼男人》\n",
      "9.《逆鱗》\n",
      "10.《七里香》\n",
      "\n",
      "這些歌曲從各種流行音樂排行榜、電台播放量、音樂獎項等多個角度考慮而來，也是根據大眾反響和喜愛程度來確定的。"
     ]
    }
   ],
   "source": [
    "response = openai.ChatCompletion.create(\n",
    "    model='gpt-3.5-turbo',\n",
    "    messages=[\n",
    "        {'role': 'system', 'content': prompt_system},\n",
    "        {'role': 'user', 'content': prompt_user}],\n",
    "    temperature=1, # 0~2 - higher means more random, and vice versa\n",
    "    stream=True # enable stream completions\n",
    ")\n",
    "\n",
    "full_message = ''\n",
    "for chunk in response:\n",
    "    chunk_message = chunk['choices'][0]['delta'] \n",
    "    if 'content' in chunk_message.keys():\n",
    "        chunk_content = chunk_message['content']\n",
    "        full_message += chunk_content\n",
    "        print(chunk_content, end='')"
   ]
  },
  {
   "cell_type": "code",
   "execution_count": 5,
   "id": "4b0f19ba-51e4-450b-a1a6-cb6aaad2f72c",
   "metadata": {},
   "outputs": [
    {
     "data": {
      "text/plain": [
       "<OpenAIObject chat.completion.chunk id=chatcmpl-7X2BFXeD5GxyLZVE2PoC5hIr30iWS at 0x291763a2540> JSON: {\n",
       "  \"choices\": [\n",
       "    {\n",
       "      \"delta\": {},\n",
       "      \"finish_reason\": \"stop\",\n",
       "      \"index\": 0\n",
       "    }\n",
       "  ],\n",
       "  \"created\": 1688107561,\n",
       "  \"id\": \"chatcmpl-7X2BFXeD5GxyLZVE2PoC5hIr30iWS\",\n",
       "  \"model\": \"gpt-3.5-turbo-0613\",\n",
       "  \"object\": \"chat.completion.chunk\"\n",
       "}"
      ]
     },
     "execution_count": 5,
     "metadata": {},
     "output_type": "execute_result"
    }
   ],
   "source": [
    "chunk"
   ]
  },
  {
   "cell_type": "code",
   "execution_count": null,
   "id": "9af11e39-8c51-401c-8a80-5af0138818f4",
   "metadata": {},
   "outputs": [],
   "source": []
  }
 ],
 "metadata": {
  "kernelspec": {
   "display_name": "openai",
   "language": "python",
   "name": "openai"
  },
  "language_info": {
   "codemirror_mode": {
    "name": "ipython",
    "version": 3
   },
   "file_extension": ".py",
   "mimetype": "text/x-python",
   "name": "python",
   "nbconvert_exporter": "python",
   "pygments_lexer": "ipython3",
   "version": "3.9.16"
  }
 },
 "nbformat": 4,
 "nbformat_minor": 5
}
